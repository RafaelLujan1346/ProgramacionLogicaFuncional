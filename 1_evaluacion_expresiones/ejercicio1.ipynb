{
 "cells": [
  {
   "cell_type": "markdown",
   "id": "a8468b14",
   "metadata": {},
   "source": [
    "# Ejercicio 1\n",
    "Ejercicio 1 de evaluacion de expresiones en python\n",
    "\n",
    "$ \\frac {\\pi ^ 2 }{6} =\\sum_{n=1}^{\\infty} \\frac{1}{n ^ 2} $\n"
   ]
  },
  {
   "cell_type": "code",
   "execution_count": 1,
   "id": "84238fc3",
   "metadata": {},
   "outputs": [
    {
     "name": "stdout",
     "output_type": "stream",
     "text": [
      "valor teorico: 1.6449340668482264, aproximacion: 1.6449338668481501\n",
      "Error : 2.0000007627807292e-07\n"
     ]
    }
   ],
   "source": [
    "import math\n",
    "res = math.pi **2 /6\n",
    "res2=0\n",
    "for n in range(1,5000000):\n",
    "    res2 +=1/(n**2)\n",
    "\n",
    "print(f\"valor teorico: {res}, aproximacion: {res2}\")\n",
    "error= abs(res-res2)\n",
    "print(f\"Error : {error}\")"
   ]
  },
  {
   "cell_type": "markdown",
   "id": "242bc3ec",
   "metadata": {},
   "source": [
    "expresion de ejemplo\n",
    "\n",
    "-primero se ejecuta la potencia : 2 ** 2 = 4\n",
    "\n",
    "-despues se multiplica por 4\n",
    "\n",
    "-y se le suma 3\n"
   ]
  },
  {
   "cell_type": "code",
   "execution_count": null,
   "id": "52462a6d",
   "metadata": {},
   "outputs": [],
   "source": [
    "\n",
    "resultado = 3 + 4 * 2 **2\n",
    "print(resultado)"
   ]
  },
  {
   "cell_type": "markdown",
   "id": "ba7680cd",
   "metadata": {},
   "source": [
    "expresion 1\n",
    "\n",
    "-primero se suma el 2 y el 3 dentro del parentesis: (2+3)\n",
    "\n",
    "-despues se multimplica el resultado de la suma por 4 = 5 * 4 "
   ]
  },
  {
   "cell_type": "code",
   "execution_count": 1,
   "id": "b7a185c5",
   "metadata": {},
   "outputs": [
    {
     "name": "stdout",
     "output_type": "stream",
     "text": [
      "20\n"
     ]
    }
   ],
   "source": [
    "resultado1= (3+2) * 4\n",
    "print(resultado1)"
   ]
  },
  {
   "cell_type": "markdown",
   "id": "02827f4e",
   "metadata": {},
   "source": [
    "expresion 2\n",
    "\n",
    "-primero se eleva el 3 al cuadrado = 3 ** 2\n",
    "\n",
    "-el resultado se multiplica por 2= 2 * 9"
   ]
  },
  {
   "cell_type": "code",
   "execution_count": null,
   "id": "c79c95a0",
   "metadata": {},
   "outputs": [
    {
     "name": "stdout",
     "output_type": "stream",
     "text": [
      "18\n"
     ]
    }
   ],
   "source": [
    "resultado2 = 2 * 3 ** 2 \n",
    "print(resultado2)"
   ]
  },
  {
   "cell_type": "markdown",
   "id": "26de13ce",
   "metadata": {},
   "source": [
    "expresion 3\n",
    "\n",
    "-primero se divide el 10 entre el nomero 3 y Python lo redondea a 3 = 10 // 3\n",
    "\n",
    "-despues se suma el resultado (3) con el 2= 3+2\n"
   ]
  },
  {
   "cell_type": "code",
   "execution_count": 5,
   "id": "6eae8673",
   "metadata": {},
   "outputs": [
    {
     "name": "stdout",
     "output_type": "stream",
     "text": [
      "5\n"
     ]
    }
   ],
   "source": [
    "resultado3 = 10 // 3 + 2\n",
    "print(resultado3)"
   ]
  },
  {
   "cell_type": "markdown",
   "id": "d85ab000",
   "metadata": {},
   "source": [
    "#expresion 4\n",
    "\n",
    "primero se divide 17 / 5 sin tomar decimales dejando el residuo de 2.\n",
    "\n",
    "el residuo que es 2 se multiplica por 2"
   ]
  },
  {
   "cell_type": "code",
   "execution_count": 9,
   "id": "e54ceb42",
   "metadata": {},
   "outputs": [
    {
     "name": "stdout",
     "output_type": "stream",
     "text": [
      "4\n"
     ]
    }
   ],
   "source": [
    "resultado4 = 17 % 5 * 2 \n",
    "print(resultado4)"
   ]
  },
  {
   "cell_type": "markdown",
   "id": "d5ce52a4",
   "metadata": {},
   "source": [
    "expresion 5\n",
    "\n",
    "-primero se eleva el 2 al cuadrado= 2 ** 2\n",
    "\n",
    "-despues el - se multiplica por el resultado -(4)"
   ]
  },
  {
   "cell_type": "code",
   "execution_count": 11,
   "id": "e3d4410d",
   "metadata": {},
   "outputs": [
    {
     "name": "stdout",
     "output_type": "stream",
     "text": [
      "-4\n"
     ]
    }
   ],
   "source": [
    "resultado5 = -2 ** 2\n",
    "print(resultado5)"
   ]
  },
  {
   "cell_type": "markdown",
   "id": "b03b2947",
   "metadata": {},
   "source": [
    "expresion 6\n",
    "\n",
    "primero se eleva el 2 al cuadrado 2 ** 2\n",
    "\n",
    "despues se multiplica el 4 por el resultado anterior (4) dando 16= 4*4\n",
    "\n",
    "despues el 16 se divide entero con el 3 dando 5 = 16 //3\n",
    "\n",
    "finalmente al 5 se le suma 3 dando 8 = 3 + 5\n"
   ]
  },
  {
   "cell_type": "code",
   "execution_count": null,
   "id": "6cffd372",
   "metadata": {},
   "outputs": [
    {
     "name": "stdout",
     "output_type": "stream",
     "text": [
      "8\n"
     ]
    }
   ],
   "source": [
    "resultado6 = 3 + 4 * 2 ** 2 // 3\n",
    "print(resultado6)"
   ]
  },
  {
   "cell_type": "markdown",
   "id": "ddf33acb",
   "metadata": {},
   "source": [
    "expresion 7\n",
    "\n",
    "-se compara el 3 diciendo si es menor que el 4 lo cual es true\n",
    "\n",
    "-despues se compara el 4 diciendo que es menor que el 5  lo cual tambien es true"
   ]
  },
  {
   "cell_type": "code",
   "execution_count": 16,
   "id": "47445f73",
   "metadata": {},
   "outputs": [
    {
     "name": "stdout",
     "output_type": "stream",
     "text": [
      "True\n"
     ]
    }
   ],
   "source": [
    "resultado7 = 3 < 4 < 5\n",
    "print(resultado7)"
   ]
  },
  {
   "cell_type": "markdown",
   "id": "156030b8",
   "metadata": {},
   "source": [
    "expresion 8\n",
    "\n",
    "-se compara el 3 diciendo que es mayor que 2 lo que da true\n",
    "\n",
    "-se compara el 5 diciendo que es menor que 10 lo que da true\n",
    "\n",
    "-despues se hace una comparacion and con true y true lo que tambien da true\n",
    "\n",
    "-finalmente se hace una comparacion  or con el true y el false lo que da true \n"
   ]
  },
  {
   "cell_type": "code",
   "execution_count": 19,
   "id": "e02fffb0",
   "metadata": {},
   "outputs": [
    {
     "name": "stdout",
     "output_type": "stream",
     "text": [
      "True\n"
     ]
    }
   ],
   "source": [
    "resultado8 = (3 > 2) and (5 < 10) or False\n",
    "print(resultado8)"
   ]
  },
  {
   "cell_type": "markdown",
   "id": "c83e4155",
   "metadata": {},
   "source": [
    "Primero se suma el 3 con el 1 = 3+1\n",
    "\n",
    "despues se compara el 5 con el 4 en binario con el AND \n",
    "\n",
    "4  2  1\n",
    "\n",
    "1  0  1  =5\n",
    "\n",
    "1  0  0  =4\n",
    "\n",
    "---------\n",
    "\n",
    "1  0  0 =4"
   ]
  },
  {
   "cell_type": "code",
   "execution_count": null,
   "id": "7f88c479",
   "metadata": {},
   "outputs": [
    {
     "name": "stdout",
     "output_type": "stream",
     "text": [
      "4\n"
     ]
    }
   ],
   "source": [
    "resultado9 = 5 & 3 + 1\n",
    "print (resultado9)"
   ]
  },
  {
   "cell_type": "markdown",
   "id": "a903d2c7",
   "metadata": {},
   "source": [
    "Expresion 10\n",
    "\n",
    "-primero se saca el residuo de la divison de 5/3 que da 2\n",
    "\n",
    "-despues se suma el 2 con el 3 dentro de los parentesis\n",
    "\n",
    "-despues el 4 se eleva el cuadrado= 4 ** 2 dando 16\n",
    "\n",
    "-despues el 16 se divide entero (//) entre 2 dando 8\n",
    "\n",
    "-despues el 16 se multiplica por el 5 dando 40\n",
    "\n",
    "-despues se toma el valor not false que da true ya que 40 no es un valor booleano\n",
    "\n",
    "\n"
   ]
  },
  {
   "cell_type": "code",
   "execution_count": 33,
   "id": "9d28ee8f",
   "metadata": {},
   "outputs": [
    {
     "name": "stdout",
     "output_type": "stream",
     "text": [
      "True\n"
     ]
    }
   ],
   "source": [
    "resultado10 = (2 + 3) * 4 ** 2 // (5 % 3) and not False\n",
    "print(resultado10)"
   ]
  },
  {
   "cell_type": "code",
   "execution_count": null,
   "id": "860d0827",
   "metadata": {},
   "outputs": [
    {
     "name": "stdout",
     "output_type": "stream",
     "text": [
      "False\n"
     ]
    }
   ],
   "source": [
    "resultado11 =  ((65 & 66) > 70 ) and not (65 ^ 66) == 0\n",
    "print(resultado11)"
   ]
  }
 ],
 "metadata": {
  "kernelspec": {
   "display_name": "Python 3",
   "language": "python",
   "name": "python3"
  },
  "language_info": {
   "codemirror_mode": {
    "name": "ipython",
    "version": 3
   },
   "file_extension": ".py",
   "mimetype": "text/x-python",
   "name": "python",
   "nbconvert_exporter": "python",
   "pygments_lexer": "ipython3",
   "version": "3.13.0"
  }
 },
 "nbformat": 4,
 "nbformat_minor": 5
}
