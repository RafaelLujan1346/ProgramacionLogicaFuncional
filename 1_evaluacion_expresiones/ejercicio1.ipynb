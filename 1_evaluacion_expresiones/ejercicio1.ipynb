{
 "cells": [
  {
   "cell_type": "markdown",
   "id": "a8468b14",
   "metadata": {},
   "source": [
    "# Ejercicio 1\n",
    "Ejercicio 1 de evaluacion de expresiones en python\n",
    "\n",
    "$ \\frac {\\pi ^ 2 }{6} =\\sum_{n=1}^{\\infty} \\frac{1}{n ^ 2} $\n"
   ]
  },
  {
   "cell_type": "code",
   "execution_count": 5,
   "id": "84238fc3",
   "metadata": {},
   "outputs": [
    {
     "name": "stdout",
     "output_type": "stream",
     "text": [
      "valor teorico: 1.6449340668482264, aproximacion: 1.6449338668481501\n",
      "Error : 2.0000007627807292e-07\n"
     ]
    }
   ],
   "source": [
    "import math\n",
    "res = math.pi **2 /6\n",
    "res2=0\n",
    "for n in range(1,5000000):\n",
    "    res2 +=1/(n**2)\n",
    "\n",
    "print(f\"valor teorico: {res}, aproximacion: {res2}\")\n",
    "error= abs(res-res2)\n",
    "print(f\"Error : {error}\")"
   ]
  }
 ],
 "metadata": {
  "kernelspec": {
   "display_name": "Python 3",
   "language": "python",
   "name": "python3"
  },
  "language_info": {
   "codemirror_mode": {
    "name": "ipython",
    "version": 3
   },
   "file_extension": ".py",
   "mimetype": "text/x-python",
   "name": "python",
   "nbconvert_exporter": "python",
   "pygments_lexer": "ipython3",
   "version": "3.13.0"
  }
 },
 "nbformat": 4,
 "nbformat_minor": 5
}
